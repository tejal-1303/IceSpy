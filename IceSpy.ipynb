{
  "cells": [
    {
      "cell_type": "code",
      "execution_count": null,
      "metadata": {
        "id": "SI3vwtn9asw8"
      },
      "outputs": [],
      "source": []
    },
    {
      "cell_type": "code",
      "execution_count": null,
      "metadata": {
        "colab": {
          "base_uri": "https://localhost:8080/",
          "height": 328
        },
        "id": "XHfP1mTRGFIr",
        "outputId": "83e3ebe1-481a-4109-a285-ad4bf2ca3959"
      },
      "outputs": [
        {
          "ename": "MessageError",
          "evalue": "ignored",
          "output_type": "error",
          "traceback": [
            "\u001b[0;31m---------------------------------------------------------------------------\u001b[0m",
            "\u001b[0;31mMessageError\u001b[0m                              Traceback (most recent call last)",
            "\u001b[0;32m<ipython-input-2-d5df0069828e>\u001b[0m in \u001b[0;36m<cell line: 2>\u001b[0;34m()\u001b[0m\n\u001b[1;32m      1\u001b[0m \u001b[0;32mfrom\u001b[0m \u001b[0mgoogle\u001b[0m\u001b[0;34m.\u001b[0m\u001b[0mcolab\u001b[0m \u001b[0;32mimport\u001b[0m \u001b[0mdrive\u001b[0m\u001b[0;34m\u001b[0m\u001b[0;34m\u001b[0m\u001b[0m\n\u001b[0;32m----> 2\u001b[0;31m \u001b[0mdrive\u001b[0m\u001b[0;34m.\u001b[0m\u001b[0mmount\u001b[0m\u001b[0;34m(\u001b[0m\u001b[0;34m'/content/drive'\u001b[0m\u001b[0;34m)\u001b[0m\u001b[0;34m\u001b[0m\u001b[0;34m\u001b[0m\u001b[0m\n\u001b[0m",
            "\u001b[0;32m/usr/local/lib/python3.10/dist-packages/google/colab/drive.py\u001b[0m in \u001b[0;36mmount\u001b[0;34m(mountpoint, force_remount, timeout_ms, readonly)\u001b[0m\n\u001b[1;32m    101\u001b[0m \u001b[0;32mdef\u001b[0m \u001b[0mmount\u001b[0m\u001b[0;34m(\u001b[0m\u001b[0mmountpoint\u001b[0m\u001b[0;34m,\u001b[0m \u001b[0mforce_remount\u001b[0m\u001b[0;34m=\u001b[0m\u001b[0;32mFalse\u001b[0m\u001b[0;34m,\u001b[0m \u001b[0mtimeout_ms\u001b[0m\u001b[0;34m=\u001b[0m\u001b[0;36m120000\u001b[0m\u001b[0;34m,\u001b[0m \u001b[0mreadonly\u001b[0m\u001b[0;34m=\u001b[0m\u001b[0;32mFalse\u001b[0m\u001b[0;34m)\u001b[0m\u001b[0;34m:\u001b[0m\u001b[0;34m\u001b[0m\u001b[0;34m\u001b[0m\u001b[0m\n\u001b[1;32m    102\u001b[0m   \u001b[0;34m\"\"\"Mount your Google Drive at the specified mountpoint path.\"\"\"\u001b[0m\u001b[0;34m\u001b[0m\u001b[0;34m\u001b[0m\u001b[0m\n\u001b[0;32m--> 103\u001b[0;31m   return _mount(\n\u001b[0m\u001b[1;32m    104\u001b[0m       \u001b[0mmountpoint\u001b[0m\u001b[0;34m,\u001b[0m\u001b[0;34m\u001b[0m\u001b[0;34m\u001b[0m\u001b[0m\n\u001b[1;32m    105\u001b[0m       \u001b[0mforce_remount\u001b[0m\u001b[0;34m=\u001b[0m\u001b[0mforce_remount\u001b[0m\u001b[0;34m,\u001b[0m\u001b[0;34m\u001b[0m\u001b[0;34m\u001b[0m\u001b[0m\n",
            "\u001b[0;32m/usr/local/lib/python3.10/dist-packages/google/colab/drive.py\u001b[0m in \u001b[0;36m_mount\u001b[0;34m(mountpoint, force_remount, timeout_ms, ephemeral, readonly)\u001b[0m\n\u001b[1;32m    130\u001b[0m   )\n\u001b[1;32m    131\u001b[0m   \u001b[0;32mif\u001b[0m \u001b[0mephemeral\u001b[0m\u001b[0;34m:\u001b[0m\u001b[0;34m\u001b[0m\u001b[0;34m\u001b[0m\u001b[0m\n\u001b[0;32m--> 132\u001b[0;31m     _message.blocking_request(\n\u001b[0m\u001b[1;32m    133\u001b[0m         \u001b[0;34m'request_auth'\u001b[0m\u001b[0;34m,\u001b[0m \u001b[0mrequest\u001b[0m\u001b[0;34m=\u001b[0m\u001b[0;34m{\u001b[0m\u001b[0;34m'authType'\u001b[0m\u001b[0;34m:\u001b[0m \u001b[0;34m'dfs_ephemeral'\u001b[0m\u001b[0;34m}\u001b[0m\u001b[0;34m,\u001b[0m \u001b[0mtimeout_sec\u001b[0m\u001b[0;34m=\u001b[0m\u001b[0;32mNone\u001b[0m\u001b[0;34m\u001b[0m\u001b[0;34m\u001b[0m\u001b[0m\n\u001b[1;32m    134\u001b[0m     )\n",
            "\u001b[0;32m/usr/local/lib/python3.10/dist-packages/google/colab/_message.py\u001b[0m in \u001b[0;36mblocking_request\u001b[0;34m(request_type, request, timeout_sec, parent)\u001b[0m\n\u001b[1;32m    174\u001b[0m       \u001b[0mrequest_type\u001b[0m\u001b[0;34m,\u001b[0m \u001b[0mrequest\u001b[0m\u001b[0;34m,\u001b[0m \u001b[0mparent\u001b[0m\u001b[0;34m=\u001b[0m\u001b[0mparent\u001b[0m\u001b[0;34m,\u001b[0m \u001b[0mexpect_reply\u001b[0m\u001b[0;34m=\u001b[0m\u001b[0;32mTrue\u001b[0m\u001b[0;34m\u001b[0m\u001b[0;34m\u001b[0m\u001b[0m\n\u001b[1;32m    175\u001b[0m   )\n\u001b[0;32m--> 176\u001b[0;31m   \u001b[0;32mreturn\u001b[0m \u001b[0mread_reply_from_input\u001b[0m\u001b[0;34m(\u001b[0m\u001b[0mrequest_id\u001b[0m\u001b[0;34m,\u001b[0m \u001b[0mtimeout_sec\u001b[0m\u001b[0;34m)\u001b[0m\u001b[0;34m\u001b[0m\u001b[0;34m\u001b[0m\u001b[0m\n\u001b[0m",
            "\u001b[0;32m/usr/local/lib/python3.10/dist-packages/google/colab/_message.py\u001b[0m in \u001b[0;36mread_reply_from_input\u001b[0;34m(message_id, timeout_sec)\u001b[0m\n\u001b[1;32m    101\u001b[0m     ):\n\u001b[1;32m    102\u001b[0m       \u001b[0;32mif\u001b[0m \u001b[0;34m'error'\u001b[0m \u001b[0;32min\u001b[0m \u001b[0mreply\u001b[0m\u001b[0;34m:\u001b[0m\u001b[0;34m\u001b[0m\u001b[0;34m\u001b[0m\u001b[0m\n\u001b[0;32m--> 103\u001b[0;31m         \u001b[0;32mraise\u001b[0m \u001b[0mMessageError\u001b[0m\u001b[0;34m(\u001b[0m\u001b[0mreply\u001b[0m\u001b[0;34m[\u001b[0m\u001b[0;34m'error'\u001b[0m\u001b[0;34m]\u001b[0m\u001b[0;34m)\u001b[0m\u001b[0;34m\u001b[0m\u001b[0;34m\u001b[0m\u001b[0m\n\u001b[0m\u001b[1;32m    104\u001b[0m       \u001b[0;32mreturn\u001b[0m \u001b[0mreply\u001b[0m\u001b[0;34m.\u001b[0m\u001b[0mget\u001b[0m\u001b[0;34m(\u001b[0m\u001b[0;34m'data'\u001b[0m\u001b[0;34m,\u001b[0m \u001b[0;32mNone\u001b[0m\u001b[0;34m)\u001b[0m\u001b[0;34m\u001b[0m\u001b[0;34m\u001b[0m\u001b[0m\n\u001b[1;32m    105\u001b[0m \u001b[0;34m\u001b[0m\u001b[0m\n",
            "\u001b[0;31mMessageError\u001b[0m: Error: credential propagation was unsuccessful"
          ]
        }
      ],
      "source": [
        "from google.colab import drive\n",
        "drive.mount('/content/drive')"
      ]
    },
    {
      "cell_type": "code",
      "execution_count": null,
      "metadata": {
        "colab": {
          "base_uri": "https://localhost:8080/"
        },
        "id": "A3vjjDYgaQlR",
        "outputId": "27962385-3650-4626-8b13-0248f61f1de9"
      },
      "outputs": [
        {
          "name": "stdout",
          "output_type": "stream",
          "text": [
            "Looking in indexes: https://pypi.org/simple, https://us-python.pkg.dev/colab-wheels/public/simple/\n",
            "Requirement already satisfied: py7zr in /usr/local/lib/python3.10/dist-packages (0.20.5)\n",
            "Requirement already satisfied: pybcj>=0.6.0 in /usr/local/lib/python3.10/dist-packages (from py7zr) (1.0.1)\n",
            "Requirement already satisfied: brotli>=1.0.9 in /usr/local/lib/python3.10/dist-packages (from py7zr) (1.0.9)\n",
            "Requirement already satisfied: psutil in /usr/local/lib/python3.10/dist-packages (from py7zr) (5.9.5)\n",
            "Requirement already satisfied: inflate64>=0.3.1 in /usr/local/lib/python3.10/dist-packages (from py7zr) (0.3.1)\n",
            "Requirement already satisfied: texttable in /usr/local/lib/python3.10/dist-packages (from py7zr) (1.6.7)\n",
            "Requirement already satisfied: pyzstd>=0.14.4 in /usr/local/lib/python3.10/dist-packages (from py7zr) (0.15.7)\n",
            "Requirement already satisfied: pyppmd<1.1.0,>=0.18.1 in /usr/local/lib/python3.10/dist-packages (from py7zr) (1.0.0)\n",
            "Requirement already satisfied: pycryptodomex>=3.6.6 in /usr/local/lib/python3.10/dist-packages (from py7zr) (3.17)\n",
            "Requirement already satisfied: multivolumefile>=0.2.3 in /usr/local/lib/python3.10/dist-packages (from py7zr) (0.2.3)\n"
          ]
        }
      ],
      "source": [
        "import pandas as pd\n",
        "!pip install py7zr\n",
        "import py7zr\n",
        "import os\n",
        "import matplotlib.pyplot as plt\n",
        "import seaborn as sns\n",
        "from tensorflow.keras.models import Sequential\n",
        "from keras.layers import Conv2D, MaxPooling2D\n",
        "from tensorflow.keras.layers import Dense\n",
        "from keras.layers import Dense, Dropout, Flatten, Input\n",
        "from tensorflow.keras.optimizers import SGD,Adam"
      ]
    },
    {
      "cell_type": "code",
      "execution_count": null,
      "metadata": {
        "id": "onB1zWLOaonu"
      },
      "outputs": [],
      "source": [
        "train = pd.read_json('/content/drive/MyDrive/inputs/train.json')\n",
        "test = pd.read_json('/content/drive/MyDrive/inputs/test.json')"
      ]
    },
    {
      "cell_type": "code",
      "execution_count": null,
      "metadata": {
        "colab": {
          "base_uri": "https://localhost:8080/",
          "height": 206
        },
        "id": "8nTqv5dJ2iVz",
        "outputId": "931f127d-b856-4a56-bff6-5fabb15d0a33"
      },
      "outputs": [
        {
          "data": {
            "text/html": [
              "\n",
              "  <div id=\"df-5d8f9d45-9be4-4f56-b758-dd71625111ec\">\n",
              "    <div class=\"colab-df-container\">\n",
              "      <div>\n",
              "<style scoped>\n",
              "    .dataframe tbody tr th:only-of-type {\n",
              "        vertical-align: middle;\n",
              "    }\n",
              "\n",
              "    .dataframe tbody tr th {\n",
              "        vertical-align: top;\n",
              "    }\n",
              "\n",
              "    .dataframe thead th {\n",
              "        text-align: right;\n",
              "    }\n",
              "</style>\n",
              "<table border=\"1\" class=\"dataframe\">\n",
              "  <thead>\n",
              "    <tr style=\"text-align: right;\">\n",
              "      <th></th>\n",
              "      <th>id</th>\n",
              "      <th>band_1</th>\n",
              "      <th>band_2</th>\n",
              "      <th>inc_angle</th>\n",
              "    </tr>\n",
              "  </thead>\n",
              "  <tbody>\n",
              "    <tr>\n",
              "      <th>0</th>\n",
              "      <td>5941774d</td>\n",
              "      <td>[-15.863251, -15.201077, -17.887735, -19.17248...</td>\n",
              "      <td>[-21.629612, -21.142353, -23.908337, -28.34524...</td>\n",
              "      <td>34.966400</td>\n",
              "    </tr>\n",
              "    <tr>\n",
              "      <th>1</th>\n",
              "      <td>4023181e</td>\n",
              "      <td>[-26.058969497680664, -26.058969497680664, -26...</td>\n",
              "      <td>[-25.754207611083984, -25.754207611083984, -25...</td>\n",
              "      <td>32.615072</td>\n",
              "    </tr>\n",
              "    <tr>\n",
              "      <th>2</th>\n",
              "      <td>b20200e4</td>\n",
              "      <td>[-14.14109992980957, -15.064241409301758, -17....</td>\n",
              "      <td>[-14.74563980102539, -14.590410232543945, -14....</td>\n",
              "      <td>37.505433</td>\n",
              "    </tr>\n",
              "    <tr>\n",
              "      <th>3</th>\n",
              "      <td>e7f018bb</td>\n",
              "      <td>[-12.167478, -13.706167, -16.54837, -13.572674...</td>\n",
              "      <td>[-24.32222, -26.375538, -24.096739, -23.8769, ...</td>\n",
              "      <td>34.473900</td>\n",
              "    </tr>\n",
              "    <tr>\n",
              "      <th>4</th>\n",
              "      <td>4371c8c3</td>\n",
              "      <td>[-23.37459373474121, -26.02718162536621, -28.1...</td>\n",
              "      <td>[-25.72234344482422, -27.011577606201172, -23....</td>\n",
              "      <td>43.918874</td>\n",
              "    </tr>\n",
              "  </tbody>\n",
              "</table>\n",
              "</div>\n",
              "      <button class=\"colab-df-convert\" onclick=\"convertToInteractive('df-5d8f9d45-9be4-4f56-b758-dd71625111ec')\"\n",
              "              title=\"Convert this dataframe to an interactive table.\"\n",
              "              style=\"display:none;\">\n",
              "        \n",
              "  <svg xmlns=\"http://www.w3.org/2000/svg\" height=\"24px\"viewBox=\"0 0 24 24\"\n",
              "       width=\"24px\">\n",
              "    <path d=\"M0 0h24v24H0V0z\" fill=\"none\"/>\n",
              "    <path d=\"M18.56 5.44l.94 2.06.94-2.06 2.06-.94-2.06-.94-.94-2.06-.94 2.06-2.06.94zm-11 1L8.5 8.5l.94-2.06 2.06-.94-2.06-.94L8.5 2.5l-.94 2.06-2.06.94zm10 10l.94 2.06.94-2.06 2.06-.94-2.06-.94-.94-2.06-.94 2.06-2.06.94z\"/><path d=\"M17.41 7.96l-1.37-1.37c-.4-.4-.92-.59-1.43-.59-.52 0-1.04.2-1.43.59L10.3 9.45l-7.72 7.72c-.78.78-.78 2.05 0 2.83L4 21.41c.39.39.9.59 1.41.59.51 0 1.02-.2 1.41-.59l7.78-7.78 2.81-2.81c.8-.78.8-2.07 0-2.86zM5.41 20L4 18.59l7.72-7.72 1.47 1.35L5.41 20z\"/>\n",
              "  </svg>\n",
              "      </button>\n",
              "      \n",
              "  <style>\n",
              "    .colab-df-container {\n",
              "      display:flex;\n",
              "      flex-wrap:wrap;\n",
              "      gap: 12px;\n",
              "    }\n",
              "\n",
              "    .colab-df-convert {\n",
              "      background-color: #E8F0FE;\n",
              "      border: none;\n",
              "      border-radius: 50%;\n",
              "      cursor: pointer;\n",
              "      display: none;\n",
              "      fill: #1967D2;\n",
              "      height: 32px;\n",
              "      padding: 0 0 0 0;\n",
              "      width: 32px;\n",
              "    }\n",
              "\n",
              "    .colab-df-convert:hover {\n",
              "      background-color: #E2EBFA;\n",
              "      box-shadow: 0px 1px 2px rgba(60, 64, 67, 0.3), 0px 1px 3px 1px rgba(60, 64, 67, 0.15);\n",
              "      fill: #174EA6;\n",
              "    }\n",
              "\n",
              "    [theme=dark] .colab-df-convert {\n",
              "      background-color: #3B4455;\n",
              "      fill: #D2E3FC;\n",
              "    }\n",
              "\n",
              "    [theme=dark] .colab-df-convert:hover {\n",
              "      background-color: #434B5C;\n",
              "      box-shadow: 0px 1px 3px 1px rgba(0, 0, 0, 0.15);\n",
              "      filter: drop-shadow(0px 1px 2px rgba(0, 0, 0, 0.3));\n",
              "      fill: #FFFFFF;\n",
              "    }\n",
              "  </style>\n",
              "\n",
              "      <script>\n",
              "        const buttonEl =\n",
              "          document.querySelector('#df-5d8f9d45-9be4-4f56-b758-dd71625111ec button.colab-df-convert');\n",
              "        buttonEl.style.display =\n",
              "          google.colab.kernel.accessAllowed ? 'block' : 'none';\n",
              "\n",
              "        async function convertToInteractive(key) {\n",
              "          const element = document.querySelector('#df-5d8f9d45-9be4-4f56-b758-dd71625111ec');\n",
              "          const dataTable =\n",
              "            await google.colab.kernel.invokeFunction('convertToInteractive',\n",
              "                                                     [key], {});\n",
              "          if (!dataTable) return;\n",
              "\n",
              "          const docLinkHtml = 'Like what you see? Visit the ' +\n",
              "            '<a target=\"_blank\" href=https://colab.research.google.com/notebooks/data_table.ipynb>data table notebook</a>'\n",
              "            + ' to learn more about interactive tables.';\n",
              "          element.innerHTML = '';\n",
              "          dataTable['output_type'] = 'display_data';\n",
              "          await google.colab.output.renderOutput(dataTable, element);\n",
              "          const docLink = document.createElement('div');\n",
              "          docLink.innerHTML = docLinkHtml;\n",
              "          element.appendChild(docLink);\n",
              "        }\n",
              "      </script>\n",
              "    </div>\n",
              "  </div>\n",
              "  "
            ],
            "text/plain": [
              "         id                                             band_1  \\\n",
              "0  5941774d  [-15.863251, -15.201077, -17.887735, -19.17248...   \n",
              "1  4023181e  [-26.058969497680664, -26.058969497680664, -26...   \n",
              "2  b20200e4  [-14.14109992980957, -15.064241409301758, -17....   \n",
              "3  e7f018bb  [-12.167478, -13.706167, -16.54837, -13.572674...   \n",
              "4  4371c8c3  [-23.37459373474121, -26.02718162536621, -28.1...   \n",
              "\n",
              "                                              band_2  inc_angle  \n",
              "0  [-21.629612, -21.142353, -23.908337, -28.34524...  34.966400  \n",
              "1  [-25.754207611083984, -25.754207611083984, -25...  32.615072  \n",
              "2  [-14.74563980102539, -14.590410232543945, -14....  37.505433  \n",
              "3  [-24.32222, -26.375538, -24.096739, -23.8769, ...  34.473900  \n",
              "4  [-25.72234344482422, -27.011577606201172, -23....  43.918874  "
            ]
          },
          "execution_count": 5,
          "metadata": {},
          "output_type": "execute_result"
        }
      ],
      "source": [
        "test.head()"
      ]
    },
    {
      "cell_type": "code",
      "execution_count": null,
      "metadata": {
        "colab": {
          "base_uri": "https://localhost:8080/",
          "height": 206
        },
        "id": "3y-lvJg52ulA",
        "outputId": "fa6d73ce-040a-45d8-ba4f-d96516ed4a50"
      },
      "outputs": [
        {
          "data": {
            "text/html": [
              "\n",
              "  <div id=\"df-f9073b07-048c-4fa6-a379-ea0ae528c769\">\n",
              "    <div class=\"colab-df-container\">\n",
              "      <div>\n",
              "<style scoped>\n",
              "    .dataframe tbody tr th:only-of-type {\n",
              "        vertical-align: middle;\n",
              "    }\n",
              "\n",
              "    .dataframe tbody tr th {\n",
              "        vertical-align: top;\n",
              "    }\n",
              "\n",
              "    .dataframe thead th {\n",
              "        text-align: right;\n",
              "    }\n",
              "</style>\n",
              "<table border=\"1\" class=\"dataframe\">\n",
              "  <thead>\n",
              "    <tr style=\"text-align: right;\">\n",
              "      <th></th>\n",
              "      <th>id</th>\n",
              "      <th>band_1</th>\n",
              "      <th>band_2</th>\n",
              "      <th>inc_angle</th>\n",
              "      <th>is_iceberg</th>\n",
              "    </tr>\n",
              "  </thead>\n",
              "  <tbody>\n",
              "    <tr>\n",
              "      <th>0</th>\n",
              "      <td>dfd5f913</td>\n",
              "      <td>[-27.878360999999998, -27.15416, -28.668615, -...</td>\n",
              "      <td>[-27.154118, -29.537888, -31.0306, -32.190483,...</td>\n",
              "      <td>43.9239</td>\n",
              "      <td>0</td>\n",
              "    </tr>\n",
              "    <tr>\n",
              "      <th>1</th>\n",
              "      <td>e25388fd</td>\n",
              "      <td>[-12.242375, -14.920304999999999, -14.920363, ...</td>\n",
              "      <td>[-31.506321, -27.984554, -26.645678, -23.76760...</td>\n",
              "      <td>38.1562</td>\n",
              "      <td>0</td>\n",
              "    </tr>\n",
              "    <tr>\n",
              "      <th>2</th>\n",
              "      <td>58b2aaa0</td>\n",
              "      <td>[-24.603676, -24.603714, -24.871029, -23.15277...</td>\n",
              "      <td>[-24.870956, -24.092632, -20.653963, -19.41104...</td>\n",
              "      <td>45.2859</td>\n",
              "      <td>1</td>\n",
              "    </tr>\n",
              "    <tr>\n",
              "      <th>3</th>\n",
              "      <td>4cfc3a18</td>\n",
              "      <td>[-22.454607, -23.082819, -23.998013, -23.99805...</td>\n",
              "      <td>[-27.889421, -27.519794, -27.165262, -29.10350...</td>\n",
              "      <td>43.8306</td>\n",
              "      <td>0</td>\n",
              "    </tr>\n",
              "    <tr>\n",
              "      <th>4</th>\n",
              "      <td>271f93f4</td>\n",
              "      <td>[-26.006956, -23.164886, -23.164886, -26.89116...</td>\n",
              "      <td>[-27.206915, -30.259186, -30.259186, -23.16495...</td>\n",
              "      <td>35.6256</td>\n",
              "      <td>0</td>\n",
              "    </tr>\n",
              "  </tbody>\n",
              "</table>\n",
              "</div>\n",
              "      <button class=\"colab-df-convert\" onclick=\"convertToInteractive('df-f9073b07-048c-4fa6-a379-ea0ae528c769')\"\n",
              "              title=\"Convert this dataframe to an interactive table.\"\n",
              "              style=\"display:none;\">\n",
              "        \n",
              "  <svg xmlns=\"http://www.w3.org/2000/svg\" height=\"24px\"viewBox=\"0 0 24 24\"\n",
              "       width=\"24px\">\n",
              "    <path d=\"M0 0h24v24H0V0z\" fill=\"none\"/>\n",
              "    <path d=\"M18.56 5.44l.94 2.06.94-2.06 2.06-.94-2.06-.94-.94-2.06-.94 2.06-2.06.94zm-11 1L8.5 8.5l.94-2.06 2.06-.94-2.06-.94L8.5 2.5l-.94 2.06-2.06.94zm10 10l.94 2.06.94-2.06 2.06-.94-2.06-.94-.94-2.06-.94 2.06-2.06.94z\"/><path d=\"M17.41 7.96l-1.37-1.37c-.4-.4-.92-.59-1.43-.59-.52 0-1.04.2-1.43.59L10.3 9.45l-7.72 7.72c-.78.78-.78 2.05 0 2.83L4 21.41c.39.39.9.59 1.41.59.51 0 1.02-.2 1.41-.59l7.78-7.78 2.81-2.81c.8-.78.8-2.07 0-2.86zM5.41 20L4 18.59l7.72-7.72 1.47 1.35L5.41 20z\"/>\n",
              "  </svg>\n",
              "      </button>\n",
              "      \n",
              "  <style>\n",
              "    .colab-df-container {\n",
              "      display:flex;\n",
              "      flex-wrap:wrap;\n",
              "      gap: 12px;\n",
              "    }\n",
              "\n",
              "    .colab-df-convert {\n",
              "      background-color: #E8F0FE;\n",
              "      border: none;\n",
              "      border-radius: 50%;\n",
              "      cursor: pointer;\n",
              "      display: none;\n",
              "      fill: #1967D2;\n",
              "      height: 32px;\n",
              "      padding: 0 0 0 0;\n",
              "      width: 32px;\n",
              "    }\n",
              "\n",
              "    .colab-df-convert:hover {\n",
              "      background-color: #E2EBFA;\n",
              "      box-shadow: 0px 1px 2px rgba(60, 64, 67, 0.3), 0px 1px 3px 1px rgba(60, 64, 67, 0.15);\n",
              "      fill: #174EA6;\n",
              "    }\n",
              "\n",
              "    [theme=dark] .colab-df-convert {\n",
              "      background-color: #3B4455;\n",
              "      fill: #D2E3FC;\n",
              "    }\n",
              "\n",
              "    [theme=dark] .colab-df-convert:hover {\n",
              "      background-color: #434B5C;\n",
              "      box-shadow: 0px 1px 3px 1px rgba(0, 0, 0, 0.15);\n",
              "      filter: drop-shadow(0px 1px 2px rgba(0, 0, 0, 0.3));\n",
              "      fill: #FFFFFF;\n",
              "    }\n",
              "  </style>\n",
              "\n",
              "      <script>\n",
              "        const buttonEl =\n",
              "          document.querySelector('#df-f9073b07-048c-4fa6-a379-ea0ae528c769 button.colab-df-convert');\n",
              "        buttonEl.style.display =\n",
              "          google.colab.kernel.accessAllowed ? 'block' : 'none';\n",
              "\n",
              "        async function convertToInteractive(key) {\n",
              "          const element = document.querySelector('#df-f9073b07-048c-4fa6-a379-ea0ae528c769');\n",
              "          const dataTable =\n",
              "            await google.colab.kernel.invokeFunction('convertToInteractive',\n",
              "                                                     [key], {});\n",
              "          if (!dataTable) return;\n",
              "\n",
              "          const docLinkHtml = 'Like what you see? Visit the ' +\n",
              "            '<a target=\"_blank\" href=https://colab.research.google.com/notebooks/data_table.ipynb>data table notebook</a>'\n",
              "            + ' to learn more about interactive tables.';\n",
              "          element.innerHTML = '';\n",
              "          dataTable['output_type'] = 'display_data';\n",
              "          await google.colab.output.renderOutput(dataTable, element);\n",
              "          const docLink = document.createElement('div');\n",
              "          docLink.innerHTML = docLinkHtml;\n",
              "          element.appendChild(docLink);\n",
              "        }\n",
              "      </script>\n",
              "    </div>\n",
              "  </div>\n",
              "  "
            ],
            "text/plain": [
              "         id                                             band_1  \\\n",
              "0  dfd5f913  [-27.878360999999998, -27.15416, -28.668615, -...   \n",
              "1  e25388fd  [-12.242375, -14.920304999999999, -14.920363, ...   \n",
              "2  58b2aaa0  [-24.603676, -24.603714, -24.871029, -23.15277...   \n",
              "3  4cfc3a18  [-22.454607, -23.082819, -23.998013, -23.99805...   \n",
              "4  271f93f4  [-26.006956, -23.164886, -23.164886, -26.89116...   \n",
              "\n",
              "                                              band_2 inc_angle  is_iceberg  \n",
              "0  [-27.154118, -29.537888, -31.0306, -32.190483,...   43.9239           0  \n",
              "1  [-31.506321, -27.984554, -26.645678, -23.76760...   38.1562           0  \n",
              "2  [-24.870956, -24.092632, -20.653963, -19.41104...   45.2859           1  \n",
              "3  [-27.889421, -27.519794, -27.165262, -29.10350...   43.8306           0  \n",
              "4  [-27.206915, -30.259186, -30.259186, -23.16495...   35.6256           0  "
            ]
          },
          "execution_count": 6,
          "metadata": {},
          "output_type": "execute_result"
        }
      ],
      "source": [
        "train.head()"
      ]
    },
    {
      "cell_type": "code",
      "execution_count": null,
      "metadata": {
        "id": "bkOlr4C3pdhH"
      },
      "outputs": [],
      "source": [
        "train.inc_angle = train.inc_angle.replace('na', 0)\n",
        "train.inc_angle = train.inc_angle.astype(float).fillna(0.0)"
      ]
    },
    {
      "cell_type": "markdown",
      "metadata": {
        "id": "jj4Rly11qkgH"
      },
      "source": []
    },
    {
      "cell_type": "code",
      "execution_count": null,
      "metadata": {
        "id": "sdTu2Nx5bhKl"
      },
      "outputs": [],
      "source": [
        "import numpy as np\n",
        "def get_scaled_imgs(df):\n",
        "    imgs = []\n",
        "    label =[]\n",
        "\n",
        "    for i, row in df.iterrows():\n",
        "        #make 75x75 image\n",
        "        band_1 = np.array(row['band_1']).reshape(75, 75)\n",
        "        band_2 = np.array(row['band_2']).reshape(75, 75)\n",
        "        band_3 = band_1 + band_2 # plus since log(x*y) = log(x) + log(y)\n",
        "\n",
        "        # Rescale\n",
        "        a = (band_1 - band_1.mean()) / (band_1.max() - band_1.min())\n",
        "        b = (band_2 - band_2.mean()) / (band_2.max() - band_2.min())\n",
        "        c = (band_3 - band_3.mean()) / (band_3.max() - band_3.min())\n",
        "        imgs.append(np.dstack((a, b, c)))\n",
        "    return np.array(imgs)"
      ]
    },
    {
      "cell_type": "code",
      "execution_count": null,
      "metadata": {
        "id": "c-iTobTmqp9V"
      },
      "outputs": [],
      "source": []
    },
    {
      "cell_type": "code",
      "execution_count": null,
      "metadata": {
        "id": "cHKWH3Iob1aQ"
      },
      "outputs": [],
      "source": [
        "data=get_scaled_imgs(train)\n",
        "target = np.array(train['is_iceberg'])"
      ]
    },
    {
      "cell_type": "code",
      "execution_count": null,
      "metadata": {
        "colab": {
          "base_uri": "https://localhost:8080/",
          "height": 171
        },
        "id": "H26NqWDTqrIz",
        "outputId": "ee4b710c-7965-4f5a-8561-23d652b2beb3"
      },
      "outputs": [
        {
          "ename": "NameError",
          "evalue": "ignored",
          "output_type": "error",
          "traceback": [
            "\u001b[0;31m---------------------------------------------------------------------------\u001b[0m",
            "\u001b[0;31mNameError\u001b[0m                                 Traceback (most recent call last)",
            "\u001b[0;32m<ipython-input-1-80a4aab09c73>\u001b[0m in \u001b[0;36m<cell line: 1>\u001b[0;34m()\u001b[0m\n\u001b[0;32m----> 1\u001b[0;31m \u001b[0mdata\u001b[0m\u001b[0;34m[\u001b[0m\u001b[0;36m0\u001b[0m\u001b[0;34m]\u001b[0m\u001b[0;34m\u001b[0m\u001b[0;34m\u001b[0m\u001b[0m\n\u001b[0m",
            "\u001b[0;31mNameError\u001b[0m: name 'data' is not defined"
          ]
        }
      ],
      "source": [
        "data[0]"
      ]
    },
    {
      "cell_type": "code",
      "execution_count": null,
      "metadata": {
        "colab": {
          "base_uri": "https://localhost:8080/",
          "height": 676
        },
        "id": "qdtzHR77ihjs",
        "outputId": "7a0b7022-d1f7-4d9f-9af4-dd69215e40e2"
      },
      "outputs": [
        {
          "name": "stderr",
          "output_type": "stream",
          "text": [
            "WARNING:matplotlib.image:Clipping input data to the valid range for imshow with RGB data ([0..1] for floats or [0..255] for integers).\n",
            "WARNING:matplotlib.image:Clipping input data to the valid range for imshow with RGB data ([0..1] for floats or [0..255] for integers).\n",
            "WARNING:matplotlib.image:Clipping input data to the valid range for imshow with RGB data ([0..1] for floats or [0..255] for integers).\n",
            "WARNING:matplotlib.image:Clipping input data to the valid range for imshow with RGB data ([0..1] for floats or [0..255] for integers).\n"
          ]
        },
        {
          "data": {
            "image/png": "[encoded data removed]",
            "text/plain": [
              "<Figure size 1000x700 with 4 Axes>"
            ]
          },
          "metadata": {},
          "output_type": "display_data"
        }
      ],
      "source": [
        "# create figure\n",
        "fig = plt.figure(figsize=(10, 7))\n",
        "rows = 2\n",
        "columns = 2\n",
        "\n",
        "for i in range(4):\n",
        "#  Adds a subplot at the 1st position\n",
        "    fig.add_subplot(rows, columns, i+1)\n",
        "    plt.imshow(data[i])"
      ]
    },
    {
      "cell_type": "code",
      "execution_count": null,
      "metadata": {
        "id": "2VS3wm5PcL_v"
      },
      "outputs": [],
      "source": [
        "from sklearn.model_selection import train_test_split\n",
        "x_train,x_test,y_train,y_test=train_test_split(data,target,test_size=0.2,random_state=1)"
      ]
    },
    {
      "cell_type": "code",
      "execution_count": null,
      "metadata": {
        "colab": {
          "base_uri": "https://localhost:8080/"
        },
        "id": "6zi5d39RcPxU",
        "outputId": "b46af686-b08d-414c-87d0-3c8f2c640d9b"
      },
      "outputs": [
        {
          "name": "stdout",
          "output_type": "stream",
          "text": [
            "(1283, 75, 75, 3)\n",
            "(1283,)\n",
            "(321, 75, 75, 3)\n",
            "(321,)\n"
          ]
        }
      ],
      "source": [
        "print(x_train.shape)\n",
        "print(y_train.shape)\n",
        "print(x_test.shape)\n",
        "print(y_test.shape)"
      ]
    },
    {
      "cell_type": "code",
      "execution_count": null,
      "metadata": {
        "id": "Sjp60-96754q"
      },
      "outputs": [],
      "source": [
        "# from tensorflow.keras import layers"
      ]
    },
    {
      "cell_type": "code",
      "execution_count": null,
      "metadata": {
        "id": "W0_vgMQkFl6p"
      },
      "outputs": [],
      "source": [
        "# data_augmentation = keras.Sequential(\n",
        "#   [\n",
        "#     layers.experimental.preprocessing.RandomRotation(0.1),\n",
        "#     layers.experimental.preprocessing.RandomZoom(0.1),\n",
        "#     layers.experimental.preprocessing.RandomContrast(0.5),\n",
        "#   ]\n",
        "# )"
      ]
    },
    {
      "cell_type": "code",
      "execution_count": null,
      "metadata": {
        "id": "gE99DYB_8Oez"
      },
      "outputs": [],
      "source": [
        "# plt.imshow(data[108])"
      ]
    },
    {
      "cell_type": "code",
      "execution_count": null,
      "metadata": {
        "id": "oexho4-j8VLV"
      },
      "outputs": [],
      "source": [
        "# plt.imshow(data_augmentation(data)[108])"
      ]
    },
    {
      "cell_type": "code",
      "execution_count": null,
      "metadata": {
        "colab": {
          "base_uri": "https://localhost:8080/"
        },
        "id": "vrElgzp2ceIz",
        "outputId": "dd835e71-cad3-4825-ba64-755fa181363c"
      },
      "outputs": [
        {
          "name": "stderr",
          "output_type": "stream",
          "text": [
            "WARNING:absl:`lr` is deprecated in Keras optimizer, please use `learning_rate` or use the legacy optimizer, e.g.,tf.keras.optimizers.legacy.Adam.\n"
          ]
        },
        {
          "name": "stdout",
          "output_type": "stream",
          "text": [
            "Model: \"sequential_2\"\n",
            "_________________________________________________________________\n",
            " Layer (type)                Output Shape              Param #   \n",
            "=================================================================\n",
            " conv2d_8 (Conv2D)           (None, 73, 73, 64)        1792      \n",
            "                                                                 \n",
            " max_pooling2d_8 (MaxPooling  (None, 36, 36, 64)       0         \n",
            " 2D)                                                             \n",
            "                                                                 \n",
            " dropout_12 (Dropout)        (None, 36, 36, 64)        0         \n",
            "                                                                 \n",
            " conv2d_9 (Conv2D)           (None, 34, 34, 128)       73856     \n",
            "                                                                 \n",
            " max_pooling2d_9 (MaxPooling  (None, 17, 17, 128)      0         \n",
            " 2D)                                                             \n",
            "                                                                 \n",
            " dropout_13 (Dropout)        (None, 17, 17, 128)       0         \n",
            "                                                                 \n",
            " conv2d_10 (Conv2D)          (None, 15, 15, 128)       147584    \n",
            "                                                                 \n",
            " max_pooling2d_10 (MaxPoolin  (None, 7, 7, 128)        0         \n",
            " g2D)                                                            \n",
            "                                                                 \n",
            " dropout_14 (Dropout)        (None, 7, 7, 128)         0         \n",
            "                                                                 \n",
            " conv2d_11 (Conv2D)          (None, 5, 5, 64)          73792     \n",
            "                                                                 \n",
            " max_pooling2d_11 (MaxPoolin  (None, 2, 2, 64)         0         \n",
            " g2D)                                                            \n",
            "                                                                 \n",
            " dropout_15 (Dropout)        (None, 2, 2, 64)          0         \n",
            "                                                                 \n",
            " flatten_2 (Flatten)         (None, 256)               0         \n",
            "                                                                 \n",
            " dense_6 (Dense)             (None, 512)               131584    \n",
            "                                                                 \n",
            " dropout_16 (Dropout)        (None, 512)               0         \n",
            "                                                                 \n",
            " dense_7 (Dense)             (None, 256)               131328    \n",
            "                                                                 \n",
            " dropout_17 (Dropout)        (None, 256)               0         \n",
            "                                                                 \n",
            " dense_8 (Dense)             (None, 1)                 257       \n",
            "                                                                 \n",
            "=================================================================\n",
            "Total params: 560,193\n",
            "Trainable params: 560,193\n",
            "Non-trainable params: 0\n",
            "_________________________________________________________________\n"
          ]
        }
      ],
      "source": [
        "model=Sequential()\n",
        "\n",
        "    # CNN 1\n",
        "model.add(Conv2D(64, kernel_size=(3, 3),activation='relu', input_shape=(75, 75, 3)))\n",
        "model.add(MaxPooling2D(pool_size=(3, 3), strides=(2, 2)))\n",
        "model.add(Dropout(0.5))\n",
        "\n",
        "    # CNN 2 \n",
        "model.add(Conv2D(128, kernel_size=(3, 3), activation='relu' ))\n",
        "model.add(MaxPooling2D(pool_size=(2, 2), strides=(2, 2)))\n",
        "model.add(Dropout(0.2))\n",
        "\n",
        "    # CNN 3\n",
        "model.add(Conv2D(128, kernel_size=(3, 3), activation='relu'))\n",
        "model.add(MaxPooling2D(pool_size=(2, 2), strides=(2, 2)))\n",
        "model.add(Dropout(0.5))\n",
        "\n",
        "    # CNN 4\n",
        "model.add(Conv2D(64, kernel_size=(3, 3), activation='relu'))\n",
        "model.add(MaxPooling2D(pool_size=(2, 2), strides=(2, 2)))\n",
        "model.add(Dropout(0.2))\n",
        "\n",
        "    # You must flatten the data for the dense layers\n",
        "model.add(Flatten())\n",
        "\n",
        "    # Dense 1\n",
        "model.add(Dense(512, activation='relu',input_shape=(257,)))\n",
        "model.add(Dropout(0.2))\n",
        "\n",
        "    # Dense 2\n",
        "model.add(Dense(256, activation='relu'))\n",
        "model.add(Dropout(0.2))\n",
        "\n",
        "    # Output\n",
        "model.add(Dense(1, activation=\"sigmoid\"))\n",
        "\n",
        "# Final model\n",
        "optimizer = Adam(lr=1e-4)\n",
        "model.compile(loss='binary_crossentropy', optimizer=optimizer, metrics=['accuracy'])\n",
        "model.summary()"
      ]
    },
    {
      "cell_type": "code",
      "execution_count": null,
      "metadata": {
        "id": "V5pPXchiCdAo"
      },
      "outputs": [],
      "source": [
        "# model = Sequential([\n",
        "#   data_augmentation,\n",
        "#   layers.Conv2D(64, kernel_size=(3, 3),activation='relu', input_shape=(75, 75, 3)),\n",
        "#   layers.MaxPooling2D(pool_size=(3, 3), strides=(2, 2)),\n",
        "#   layers.Dropout(0.5),\n",
        "#   layers.Conv2D(128, kernel_size=(3, 3), activation='relu' ),\n",
        "#   layers.MaxPooling2D(pool_size=(2, 2), strides=(2, 2)),\n",
        "#   layers.Dropout(0.2),\n",
        "#   layers.Conv2D(128, kernel_size=(3, 3), activation='relu'),\n",
        "#   layers.MaxPooling2D(pool_size=(2, 2), strides=(2, 2)),\n",
        "#   layers.Dropout(0.5),\n",
        "#   layers.Conv2D(64, kernel_size=(3, 3), activation='relu'),\n",
        "#   layers.MaxPooling2D(pool_size=(2, 2), strides=(2, 2)),\n",
        "#   layers.Dropout(0.2),\n",
        "#   layers.Flatten(),\n",
        "#   layers.Dense(512, activation='relu',input_shape=(257,)),\n",
        "#   layers.Dropout(0.5),\n",
        "#   layers.Dense(256, activation='relu'),\n",
        "#   layers.Dropout(0.2),\n",
        "#   layers.Dense(1, activation=\"sigmoid\"),\n",
        "# ])"
      ]
    },
    {
      "cell_type": "code",
      "execution_count": null,
      "metadata": {
        "id": "bb9BKdu9crGc"
      },
      "outputs": [],
      "source": [
        "import keras\n",
        "file_path = \"weights_best.hdf5\"\n",
        "checkpoint = keras.callbacks.ModelCheckpoint(file_path, monitor=\"val_accuracy\", save_best_only=True, mode='max')\n",
        "reduce_lr = keras.callbacks.ReduceLROnPlateau(monitor=\"val_accuracy\", factor=0.9, patience=2, min_lr=1e-6, mode=\"max\", verbose=True)\n",
        "early_stopping = keras.callbacks.EarlyStopping(monitor=\"val_accuracy\", patience=5, mode=\"max\", verbose=True)\n",
        "callbacks_list = [checkpoint, reduce_lr, early_stopping]"
      ]
    },
    {
      "cell_type": "code",
      "execution_count": null,
      "metadata": {
        "colab": {
          "base_uri": "https://localhost:8080/"
        },
        "id": "3bWxY0vbcttL",
        "outputId": "08850083-08a2-45ce-e1fb-b1f72bbf6525"
      },
      "outputs": [
        {
          "name": "stdout",
          "output_type": "stream",
          "text": [
            "Epoch 1/100\n",
            "103/103 [==============================] - 34s 311ms/step - loss: 0.6709 - accuracy: 0.5604 - val_loss: 0.5897 - val_accuracy: 0.6693 - lr: 0.0010\n",
            "Epoch 2/100\n",
            "103/103 [==============================] - 30s 294ms/step - loss: 0.5228 - accuracy: 0.7183 - val_loss: 0.5295 - val_accuracy: 0.7160 - lr: 0.0010\n",
            "Epoch 3/100\n",
            "103/103 [==============================] - 32s 309ms/step - loss: 0.4704 - accuracy: 0.7729 - val_loss: 0.4996 - val_accuracy: 0.7471 - lr: 0.0010\n",
            "Epoch 4/100\n",
            "103/103 [==============================] - 31s 297ms/step - loss: 0.4214 - accuracy: 0.8002 - val_loss: 0.4824 - val_accuracy: 0.7432 - lr: 0.0010\n",
            "Epoch 5/100\n",
            "103/103 [==============================] - 33s 324ms/step - loss: 0.3936 - accuracy: 0.8197 - val_loss: 0.3832 - val_accuracy: 0.8171 - lr: 0.0010\n",
            "Epoch 6/100\n",
            "103/103 [==============================] - 30s 290ms/step - loss: 0.3577 - accuracy: 0.8363 - val_loss: 0.3441 - val_accuracy: 0.8210 - lr: 0.0010\n",
            "Epoch 7/100\n",
            "103/103 [==============================] - 31s 301ms/step - loss: 0.3196 - accuracy: 0.8509 - val_loss: 0.2981 - val_accuracy: 0.8677 - lr: 0.0010\n",
            "Epoch 8/100\n",
            "103/103 [==============================] - 31s 301ms/step - loss: 0.3401 - accuracy: 0.8460 - val_loss: 0.3051 - val_accuracy: 0.8560 - lr: 0.0010\n",
            "Epoch 9/100\n",
            "103/103 [==============================] - ETA: 0s - loss: 0.2813 - accuracy: 0.8840\n",
            "Epoch 9: ReduceLROnPlateau reducing learning rate to 0.0009000000427477062.\n",
            "103/103 [==============================] - 30s 289ms/step - loss: 0.2813 - accuracy: 0.8840 - val_loss: 0.5150 - val_accuracy: 0.7821 - lr: 0.0010\n",
            "Epoch 10/100\n",
            "103/103 [==============================] - 30s 288ms/step - loss: 0.2777 - accuracy: 0.8801 - val_loss: 0.3227 - val_accuracy: 0.8599 - lr: 9.0000e-04\n",
            "Epoch 11/100\n",
            "103/103 [==============================] - ETA: 0s - loss: 0.2440 - accuracy: 0.8899\n",
            "Epoch 11: ReduceLROnPlateau reducing learning rate to 0.0008100000384729356.\n",
            "103/103 [==============================] - 32s 309ms/step - loss: 0.2440 - accuracy: 0.8899 - val_loss: 0.3808 - val_accuracy: 0.8327 - lr: 9.0000e-04\n",
            "Epoch 12/100\n",
            "103/103 [==============================] - 31s 299ms/step - loss: 0.2368 - accuracy: 0.9016 - val_loss: 0.2713 - val_accuracy: 0.8677 - lr: 8.1000e-04\n",
            "Epoch 12: early stopping\n"
          ]
        }
      ],
      "source": [
        "history=model.fit(x_train,y_train,batch_size=10,epochs=100,verbose=1,validation_split=0.2,callbacks=callbacks_list)"
      ]
    },
    {
      "cell_type": "markdown",
      "metadata": {
        "id": "f8WCIFD8fq6V"
      },
      "source": [
        "df_his=pd.DataFrame.from_dict(history.history)\n",
        "history.params\n",
        "history.history.keys()"
      ]
    },
    {
      "cell_type": "code",
      "execution_count": null,
      "metadata": {
        "colab": {
          "base_uri": "https://localhost:8080/"
        },
        "id": "AUMpErXH5pNH",
        "outputId": "1770a411-548b-43d5-a9cf-e45e0ee73bf1"
      },
      "outputs": [
        {
          "data": {
            "text/plain": [
              "dict_keys(['loss', 'accuracy', 'val_loss', 'val_accuracy', 'lr'])"
            ]
          },
          "execution_count": 33,
          "metadata": {},
          "output_type": "execute_result"
        }
      ],
      "source": [
        "df_his=pd.DataFrame.from_dict(history.history)\n",
        "history.params\n",
        "history.history.keys()"
      ]
    },
    {
      "cell_type": "code",
      "execution_count": null,
      "metadata": {
        "colab": {
          "base_uri": "https://localhost:8080/",
          "height": 887
        },
        "id": "UVgUD99ofy0g",
        "outputId": "68c12b6e-e955-40f0-c2c6-88d8ff01210b"
      },
      "outputs": [
        {
          "data": {
            "image/png": "[encoded data removed]",
            "text/plain": [
              "<Figure size 640x480 with 1 Axes>"
            ]
          },
          "metadata": {},
          "output_type": "display_data"
        },
        {
          "data": {
            "image/png": "[encoded data removed]",
            "text/plain": [
              "<Figure size 640x480 with 1 Axes>"
            ]
          },
          "metadata": {},
          "output_type": "display_data"
        }
      ],
      "source": [
        "df_his['loss'].plot(style='b--',label='trainig')\n",
        "df_his['val_loss'].plot(style='r-',label='test')\n",
        "plt.title(\"Loss graph\")\n",
        "plt.show()\n",
        "\n",
        "df_his['accuracy'].plot(style='b--',label='trainig')\n",
        "df_his['val_accuracy'].plot(style='r-',label='test')\n",
        "plt.title(\"accuracy graph\")\n",
        "plt.show()"
      ]
    },
    {
      "cell_type": "code",
      "execution_count": null,
      "metadata": {
        "id": "W_HscnVPgQzg"
      },
      "outputs": [],
      "source": [
        "file_path = \"./weights_best.hdf5\"\n",
        "model = keras.models.load_model(file_path)"
      ]
    },
    {
      "cell_type": "code",
      "execution_count": null,
      "metadata": {
        "colab": {
          "base_uri": "https://localhost:8080/"
        },
        "id": "MyiFzqRkgjrU",
        "outputId": "7d5a96dc-3744-4054-cdb4-dafc419fda38"
      },
      "outputs": [
        {
          "name": "stdout",
          "output_type": "stream",
          "text": [
            "Test Loss: 0.2490750551223755\n",
            "accuracy: 0.9033515453338623\n"
          ]
        }
      ],
      "source": [
        "score=model.evaluate(x_train,y_train,verbose=0)\n",
        "print(\"Test Loss:\",score[0])\n",
        "print(\"accuracy:\",score[1])"
      ]
    },
    {
      "cell_type": "code",
      "execution_count": null,
      "metadata": {
        "colab": {
          "base_uri": "https://localhost:8080/"
        },
        "id": "I6bzFp-ZDiox",
        "outputId": "72c5d233-5e3a-427b-a0f6-768d86694f37"
      },
      "outputs": [
        {
          "name": "stdout",
          "output_type": "stream",
          "text": [
            "Test Loss: 0.25585025548934937\n",
            "accuracy: 0.8753893971443176\n"
          ]
        }
      ],
      "source": [
        "score=model.evaluate(x_test,y_test,verbose=0)\n",
        "print(\"Test Loss:\",score[0])\n",
        "print(\"accuracy:\",score[1])"
      ]
    },
    {
      "cell_type": "code",
      "execution_count": null,
      "metadata": {
        "colab": {
          "base_uri": "https://localhost:8080/"
        },
        "id": "uHOrq-Opgo0A",
        "outputId": "f9d349c0-693f-44b5-81b6-5764b963efac"
      },
      "outputs": [
        {
          "name": "stdout",
          "output_type": "stream",
          "text": [
            "11/11 [==============================] - 2s 183ms/step\n"
          ]
        }
      ],
      "source": [
        "predicted=model.predict(x_test)\n"
      ]
    },
    {
      "cell_type": "code",
      "execution_count": null,
      "metadata": {
        "id": "toLOmC7igvYw"
      },
      "outputs": [],
      "source": [
        "test_data=get_scaled_imgs(test)"
      ]
    },
    {
      "cell_type": "code",
      "execution_count": null,
      "metadata": {
        "colab": {
          "base_uri": "https://localhost:8080/",
          "height": 469
        },
        "id": "Q3pgu3uHhN4N",
        "outputId": "436cd439-e7f0-430e-c2dc-e3b26b4d7c7b"
      },
      "outputs": [
        {
          "name": "stderr",
          "output_type": "stream",
          "text": [
            "WARNING:matplotlib.image:Clipping input data to the valid range for imshow with RGB data ([0..1] for floats or [0..255] for integers).\n"
          ]
        },
        {
          "data": {
            "text/plain": [
              "<matplotlib.image.AxesImage at 0x7f21b2f605e0>"
            ]
          },
          "execution_count": 29,
          "metadata": {},
          "output_type": "execute_result"
        },
        {
          "data": {
            "image/png": "[encoded data removed]",
            "text/plain": [
              "<Figure size 640x480 with 1 Axes>"
            ]
          },
          "metadata": {},
          "output_type": "display_data"
        }
      ],
      "source": [
        "test_data.shape\n",
        "plt.imshow(test_data[0])\n"
      ]
    },
    {
      "cell_type": "code",
      "execution_count": null,
      "metadata": {
        "colab": {
          "base_uri": "https://localhost:8080/"
        },
        "id": "H7dNtM6NhZbr",
        "outputId": "a2b61cb2-916b-4a98-a9f8-01e1706bc003"
      },
      "outputs": [
        {
          "name": "stdout",
          "output_type": "stream",
          "text": [
            "264/264 [==============================] - 61s 230ms/step\n",
            "[[4.5842338e-02]\n",
            " [8.8432962e-01]\n",
            " [9.6647395e-04]\n",
            " [9.9728924e-01]\n",
            " [2.7671275e-01]\n",
            " [8.9140408e-02]\n",
            " [4.1247737e-03]\n",
            " [9.9472982e-01]\n",
            " [4.3296037e-05]\n",
            " [1.2743298e-04]]\n",
            "(8424, 1)\n"
          ]
        }
      ],
      "source": [
        "predicted=model.predict(test_data)\n",
        "print(predicted[:10])\n",
        "print(predicted.shape)"
      ]
    },
    {
      "cell_type": "code",
      "execution_count": null,
      "metadata": {
        "id": "uGQwbD6XhaKB"
      },
      "outputs": [],
      "source": [
        "submission = pd.DataFrame()\n",
        "submission['id'] = test['id']\n",
        "submission['is_iceberg'] = predicted.reshape((predicted.shape[0]))\n",
        "submission.to_csv('/content/drive/MyDrive/inputs/sample_submission.csv', index=False)\n"
      ]
    },
    {
      "cell_type": "code",
      "execution_count": null,
      "metadata": {
        "colab": {
          "base_uri": "https://localhost:8080/",
          "height": 363
        },
        "id": "FGE7TeQbhaW1",
        "outputId": "72c3d136-a4eb-449a-fbbe-cb5c7850065b"
      },
      "outputs": [
        {
          "data": {
            "text/html": [
              "\n",
              "  <div id=\"df-eccf589b-cce9-46b0-8aaa-838cb35b58f2\">\n",
              "    <div class=\"colab-df-container\">\n",
              "      <div>\n",
              "<style scoped>\n",
              "    .dataframe tbody tr th:only-of-type {\n",
              "        vertical-align: middle;\n",
              "    }\n",
              "\n",
              "    .dataframe tbody tr th {\n",
              "        vertical-align: top;\n",
              "    }\n",
              "\n",
              "    .dataframe thead th {\n",
              "        text-align: right;\n",
              "    }\n",
              "</style>\n",
              "<table border=\"1\" class=\"dataframe\">\n",
              "  <thead>\n",
              "    <tr style=\"text-align: right;\">\n",
              "      <th></th>\n",
              "      <th>id</th>\n",
              "      <th>is_iceberg</th>\n",
              "    </tr>\n",
              "  </thead>\n",
              "  <tbody>\n",
              "    <tr>\n",
              "      <th>0</th>\n",
              "      <td>5941774d</td>\n",
              "      <td>0.045842</td>\n",
              "    </tr>\n",
              "    <tr>\n",
              "      <th>1</th>\n",
              "      <td>4023181e</td>\n",
              "      <td>0.884330</td>\n",
              "    </tr>\n",
              "    <tr>\n",
              "      <th>2</th>\n",
              "      <td>b20200e4</td>\n",
              "      <td>0.000966</td>\n",
              "    </tr>\n",
              "    <tr>\n",
              "      <th>3</th>\n",
              "      <td>e7f018bb</td>\n",
              "      <td>0.997289</td>\n",
              "    </tr>\n",
              "    <tr>\n",
              "      <th>4</th>\n",
              "      <td>4371c8c3</td>\n",
              "      <td>0.276713</td>\n",
              "    </tr>\n",
              "    <tr>\n",
              "      <th>5</th>\n",
              "      <td>a8d9b1fd</td>\n",
              "      <td>0.089140</td>\n",
              "    </tr>\n",
              "    <tr>\n",
              "      <th>6</th>\n",
              "      <td>29e7727e</td>\n",
              "      <td>0.004125</td>\n",
              "    </tr>\n",
              "    <tr>\n",
              "      <th>7</th>\n",
              "      <td>92a51ffb</td>\n",
              "      <td>0.994730</td>\n",
              "    </tr>\n",
              "    <tr>\n",
              "      <th>8</th>\n",
              "      <td>c769ac97</td>\n",
              "      <td>0.000043</td>\n",
              "    </tr>\n",
              "    <tr>\n",
              "      <th>9</th>\n",
              "      <td>aee0547d</td>\n",
              "      <td>0.000127</td>\n",
              "    </tr>\n",
              "  </tbody>\n",
              "</table>\n",
              "</div>\n",
              "      <button class=\"colab-df-convert\" onclick=\"convertToInteractive('df-eccf589b-cce9-46b0-8aaa-838cb35b58f2')\"\n",
              "              title=\"Convert this dataframe to an interactive table.\"\n",
              "              style=\"display:none;\">\n",
              "        \n",
              "  <svg xmlns=\"http://www.w3.org/2000/svg\" height=\"24px\"viewBox=\"0 0 24 24\"\n",
              "       width=\"24px\">\n",
              "    <path d=\"M0 0h24v24H0V0z\" fill=\"none\"/>\n",
              "    <path d=\"M18.56 5.44l.94 2.06.94-2.06 2.06-.94-2.06-.94-.94-2.06-.94 2.06-2.06.94zm-11 1L8.5 8.5l.94-2.06 2.06-.94-2.06-.94L8.5 2.5l-.94 2.06-2.06.94zm10 10l.94 2.06.94-2.06 2.06-.94-2.06-.94-.94-2.06-.94 2.06-2.06.94z\"/><path d=\"M17.41 7.96l-1.37-1.37c-.4-.4-.92-.59-1.43-.59-.52 0-1.04.2-1.43.59L10.3 9.45l-7.72 7.72c-.78.78-.78 2.05 0 2.83L4 21.41c.39.39.9.59 1.41.59.51 0 1.02-.2 1.41-.59l7.78-7.78 2.81-2.81c.8-.78.8-2.07 0-2.86zM5.41 20L4 18.59l7.72-7.72 1.47 1.35L5.41 20z\"/>\n",
              "  </svg>\n",
              "      </button>\n",
              "      \n",
              "  <style>\n",
              "    .colab-df-container {\n",
              "      display:flex;\n",
              "      flex-wrap:wrap;\n",
              "      gap: 12px;\n",
              "    }\n",
              "\n",
              "    .colab-df-convert {\n",
              "      background-color: #E8F0FE;\n",
              "      border: none;\n",
              "      border-radius: 50%;\n",
              "      cursor: pointer;\n",
              "      display: none;\n",
              "      fill: #1967D2;\n",
              "      height: 32px;\n",
              "      padding: 0 0 0 0;\n",
              "      width: 32px;\n",
              "    }\n",
              "\n",
              "    .colab-df-convert:hover {\n",
              "      background-color: #E2EBFA;\n",
              "      box-shadow: 0px 1px 2px rgba(60, 64, 67, 0.3), 0px 1px 3px 1px rgba(60, 64, 67, 0.15);\n",
              "      fill: #174EA6;\n",
              "    }\n",
              "\n",
              "    [theme=dark] .colab-df-convert {\n",
              "      background-color: #3B4455;\n",
              "      fill: #D2E3FC;\n",
              "    }\n",
              "\n",
              "    [theme=dark] .colab-df-convert:hover {\n",
              "      background-color: #434B5C;\n",
              "      box-shadow: 0px 1px 3px 1px rgba(0, 0, 0, 0.15);\n",
              "      filter: drop-shadow(0px 1px 2px rgba(0, 0, 0, 0.3));\n",
              "      fill: #FFFFFF;\n",
              "    }\n",
              "  </style>\n",
              "\n",
              "      <script>\n",
              "        const buttonEl =\n",
              "          document.querySelector('#df-eccf589b-cce9-46b0-8aaa-838cb35b58f2 button.colab-df-convert');\n",
              "        buttonEl.style.display =\n",
              "          google.colab.kernel.accessAllowed ? 'block' : 'none';\n",
              "\n",
              "        async function convertToInteractive(key) {\n",
              "          const element = document.querySelector('#df-eccf589b-cce9-46b0-8aaa-838cb35b58f2');\n",
              "          const dataTable =\n",
              "            await google.colab.kernel.invokeFunction('convertToInteractive',\n",
              "                                                     [key], {});\n",
              "          if (!dataTable) return;\n",
              "\n",
              "          const docLinkHtml = 'Like what you see? Visit the ' +\n",
              "            '<a target=\"_blank\" href=https://colab.research.google.com/notebooks/data_table.ipynb>data table notebook</a>'\n",
              "            + ' to learn more about interactive tables.';\n",
              "          element.innerHTML = '';\n",
              "          dataTable['output_type'] = 'display_data';\n",
              "          await google.colab.output.renderOutput(dataTable, element);\n",
              "          const docLink = document.createElement('div');\n",
              "          docLink.innerHTML = docLinkHtml;\n",
              "          element.appendChild(docLink);\n",
              "        }\n",
              "      </script>\n",
              "    </div>\n",
              "  </div>\n",
              "  "
            ],
            "text/plain": [
              "         id  is_iceberg\n",
              "0  5941774d    0.045842\n",
              "1  4023181e    0.884330\n",
              "2  b20200e4    0.000966\n",
              "3  e7f018bb    0.997289\n",
              "4  4371c8c3    0.276713\n",
              "5  a8d9b1fd    0.089140\n",
              "6  29e7727e    0.004125\n",
              "7  92a51ffb    0.994730\n",
              "8  c769ac97    0.000043\n",
              "9  aee0547d    0.000127"
            ]
          },
          "execution_count": 33,
          "metadata": {},
          "output_type": "execute_result"
        }
      ],
      "source": [
        "submission.head(10)\n"
      ]
    },
    {
      "cell_type": "code",
      "execution_count": null,
      "metadata": {
        "id": "NzbuQxXMhagp"
      },
      "outputs": [],
      "source": []
    },
    {
      "cell_type": "code",
      "execution_count": null,
      "metadata": {
        "id": "Z1Uuk4rShbEd"
      },
      "outputs": [],
      "source": []
    }
  ],
  "metadata": {
    "colab": {
      "provenance": []
    },
    "kernelspec": {
      "display_name": "Python 3",
      "name": "python3"
    },
    "language_info": {
      "name": "python"
    }
  },
  "nbformat": 4,
  "nbformat_minor": 0
}